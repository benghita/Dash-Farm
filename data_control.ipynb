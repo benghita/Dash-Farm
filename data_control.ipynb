{
 "cells": [
  {
   "cell_type": "code",
   "execution_count": 158,
   "metadata": {},
   "outputs": [],
   "source": [
    "from predictor import Predictor"
   ]
  },
  {
   "cell_type": "code",
   "execution_count": 3,
   "metadata": {},
   "outputs": [
    {
     "name": "stdout",
     "output_type": "stream",
     "text": [
      "1\n",
      "2\n"
     ]
    }
   ],
   "source": [
    "from tensorflow.keras.models import load_model\n",
    "models = []\n",
    "scalers_1 = []\n",
    "scalers_2 = []\n",
    "for i in range(1, 3) :\n",
    "    print(i)\n",
    "    model_path = './ml_tools/model_'+str(i)+'.h5'\n",
    "    model = load_model(model_path)\n",
    "    models.append(model)"
   ]
  },
  {
   "cell_type": "code",
   "execution_count": 2,
   "metadata": {},
   "outputs": [
    {
     "ename": "NameError",
     "evalue": "name 'load_model' is not defined",
     "output_type": "error",
     "traceback": [
      "\u001b[0;31m---------------------------------------------------------------------------\u001b[0m",
      "\u001b[0;31mNameError\u001b[0m                                 Traceback (most recent call last)",
      "\u001b[1;32m/Users/ghita/Desktop/fm/projects/Final S/data_control.ipynb Cell 3\u001b[0m line \u001b[0;36m1\n\u001b[0;32m----> <a href='vscode-notebook-cell:/Users/ghita/Desktop/fm/projects/Final%20S/data_control.ipynb#X46sZmlsZQ%3D%3D?line=0'>1</a>\u001b[0m load_model(\u001b[39m'\u001b[39m\u001b[39m./ml_tools/model_2.h5\u001b[39m\u001b[39m'\u001b[39m)\n",
      "\u001b[0;31mNameError\u001b[0m: name 'load_model' is not defined"
     ]
    }
   ],
   "source": [
    "load_model('./ml_tools/model_2.h5')"
   ]
  },
  {
   "cell_type": "code",
   "execution_count": 4,
   "metadata": {},
   "outputs": [
    {
     "ename": "NameError",
     "evalue": "name 'df' is not defined",
     "output_type": "error",
     "traceback": [
      "\u001b[0;31m---------------------------------------------------------------------------\u001b[0m",
      "\u001b[0;31mNameError\u001b[0m                                 Traceback (most recent call last)",
      "\u001b[1;32m/Users/ghita/Desktop/fm/projects/Final S/data_control.ipynb Cell 4\u001b[0m line \u001b[0;36m1\n\u001b[0;32m----> <a href='vscode-notebook-cell:/Users/ghita/Desktop/fm/projects/Final%20S/data_control.ipynb#X50sZmlsZQ%3D%3D?line=0'>1</a>\u001b[0m df\n",
      "\u001b[0;31mNameError\u001b[0m: name 'df' is not defined"
     ]
    }
   ],
   "source": [
    "df"
   ]
  },
  {
   "cell_type": "code",
   "execution_count": 159,
   "metadata": {},
   "outputs": [
    {
     "name": "stderr",
     "output_type": "stream",
     "text": [
      "/usr/local/lib/python3.9/site-packages/sklearn/base.py:288: UserWarning: Trying to unpickle estimator MinMaxScaler from version 1.2.2 when using version 1.2.0. This might lead to breaking code or invalid results. Use at your own risk. For more info please refer to:\n",
      "https://scikit-learn.org/stable/model_persistence.html#security-maintainability-limitations\n",
      "  warnings.warn(\n"
     ]
    },
    {
     "ename": "TypeError",
     "evalue": "__init__() got an unexpected keyword argument 'fn'",
     "output_type": "error",
     "traceback": [
      "\u001b[0;31m---------------------------------------------------------------------------\u001b[0m",
      "\u001b[0;31mTypeError\u001b[0m                                 Traceback (most recent call last)",
      "\u001b[1;32m/Users/ghita/Desktop/fm/projects/Final S/data_control.ipynb Cell 2\u001b[0m line \u001b[0;36m1\n\u001b[0;32m----> <a href='vscode-notebook-cell:/Users/ghita/Desktop/fm/projects/Final%20S/data_control.ipynb#X44sZmlsZQ%3D%3D?line=0'>1</a>\u001b[0m predictor \u001b[39m=\u001b[39m Predictor()\n",
      "File \u001b[0;32m~/Desktop/fm/projects/Final S/predictor.py:36\u001b[0m, in \u001b[0;36mPredictor.__init__\u001b[0;34m(self, ml_tools_path, num_cvs)\u001b[0m\n\u001b[1;32m     34\u001b[0m \u001b[39mself\u001b[39m\u001b[39m.\u001b[39mscalers_2 \u001b[39m=\u001b[39m []\n\u001b[1;32m     35\u001b[0m \u001b[39mfor\u001b[39;00m i \u001b[39min\u001b[39;00m \u001b[39mrange\u001b[39m(\u001b[39m1\u001b[39m, num_cvs\u001b[39m+\u001b[39m\u001b[39m1\u001b[39m) :\n\u001b[0;32m---> 36\u001b[0m     model \u001b[39m=\u001b[39m load_model(ml_tools_path\u001b[39m+\u001b[39;49m\u001b[39m'\u001b[39;49m\u001b[39mmodel_\u001b[39;49m\u001b[39m'\u001b[39;49m\u001b[39m+\u001b[39;49m\u001b[39mstr\u001b[39;49m(i)\u001b[39m+\u001b[39;49m\u001b[39m'\u001b[39;49m\u001b[39m.h5\u001b[39;49m\u001b[39m'\u001b[39;49m)\n\u001b[1;32m     37\u001b[0m     \u001b[39mself\u001b[39m\u001b[39m.\u001b[39mmodels\u001b[39m.\u001b[39mappend(model)\n\u001b[1;32m     39\u001b[0m     \u001b[39mwith\u001b[39;00m \u001b[39mopen\u001b[39m(ml_tools_path\u001b[39m+\u001b[39m\u001b[39m'\u001b[39m\u001b[39mscaler1_\u001b[39m\u001b[39m'\u001b[39m\u001b[39m+\u001b[39m\u001b[39mstr\u001b[39m(i)\u001b[39m+\u001b[39m\u001b[39m'\u001b[39m\u001b[39m.pkl\u001b[39m\u001b[39m'\u001b[39m, \u001b[39m'\u001b[39m\u001b[39mrb\u001b[39m\u001b[39m'\u001b[39m) \u001b[39mas\u001b[39;00m file1:\n",
      "File \u001b[0;32m/usr/local/lib/python3.9/site-packages/keras/utils/traceback_utils.py:70\u001b[0m, in \u001b[0;36mfilter_traceback.<locals>.error_handler\u001b[0;34m(*args, **kwargs)\u001b[0m\n\u001b[1;32m     67\u001b[0m     filtered_tb \u001b[39m=\u001b[39m _process_traceback_frames(e\u001b[39m.\u001b[39m__traceback__)\n\u001b[1;32m     68\u001b[0m     \u001b[39m# To get the full stack trace, call:\u001b[39;00m\n\u001b[1;32m     69\u001b[0m     \u001b[39m# `tf.debugging.disable_traceback_filtering()`\u001b[39;00m\n\u001b[0;32m---> 70\u001b[0m     \u001b[39mraise\u001b[39;00m e\u001b[39m.\u001b[39mwith_traceback(filtered_tb) \u001b[39mfrom\u001b[39;00m \u001b[39mNone\u001b[39m\n\u001b[1;32m     71\u001b[0m \u001b[39mfinally\u001b[39;00m:\n\u001b[1;32m     72\u001b[0m     \u001b[39mdel\u001b[39;00m filtered_tb\n",
      "File \u001b[0;32m/usr/local/lib/python3.9/site-packages/keras/losses.py:315\u001b[0m, in \u001b[0;36mLossFunctionWrapper.from_config\u001b[0;34m(cls, config)\u001b[0m\n\u001b[1;32m    313\u001b[0m     \u001b[39mif\u001b[39;00m fn_name \u001b[39mand\u001b[39;00m \u001b[39mcls\u001b[39m \u001b[39mis\u001b[39;00m LossFunctionWrapper:\n\u001b[1;32m    314\u001b[0m         config[\u001b[39m\"\u001b[39m\u001b[39mfn\u001b[39m\u001b[39m\"\u001b[39m] \u001b[39m=\u001b[39m get(fn_name)\n\u001b[0;32m--> 315\u001b[0m \u001b[39mreturn\u001b[39;00m \u001b[39mcls\u001b[39;49m(\u001b[39m*\u001b[39;49m\u001b[39m*\u001b[39;49mconfig)\n",
      "\u001b[0;31mTypeError\u001b[0m: __init__() got an unexpected keyword argument 'fn'"
     ]
    }
   ],
   "source": [
    "predictor = Predictor()"
   ]
  },
  {
   "cell_type": "code",
   "execution_count": 135,
   "metadata": {},
   "outputs": [
    {
     "name": "stderr",
     "output_type": "stream",
     "text": [
      "/usr/local/lib/python3.9/site-packages/sklearn/base.py:288: UserWarning: Trying to unpickle estimator MinMaxScaler from version 1.2.2 when using version 1.2.0. This might lead to breaking code or invalid results. Use at your own risk. For more info please refer to:\n",
      "https://scikit-learn.org/stable/model_persistence.html#security-maintainability-limitations\n",
      "  warnings.warn(\n"
     ]
    }
   ],
   "source": [
    "model_path = '/Users/ghita/Desktop/fm/projects/AGRO-Dashboard/ml_tools/P075_24h_3h_CNNLSTM.h5'\n",
    "scaler1_path = '/Users/ghita/Desktop/fm/projects/AGRO-Dashboard/ml_tools/scaler1.pkl'\n",
    "scaler2_path = '/Users/ghita/Desktop/fm/projects/AGRO-Dashboard/ml_tools/scaler2.pkl'\n",
    "       \n",
    "# Charger le modèle pré-entraîné \n",
    "model = load_model(model_path)\n",
    "\n",
    "# Charger le premier scaler depuis le fichier\n",
    "with open(scaler1_path, 'rb') as file1:\n",
    "    sc1 = joblib.load(file1)\n",
    "\n",
    "# Charger le deuxième scaler depuis le fichier\n",
    "with open(scaler2_path, 'rb') as file2:\n",
    "    sc2 = joblib.load(file2)"
   ]
  },
  {
   "cell_type": "code",
   "execution_count": 153,
   "metadata": {},
   "outputs": [
    {
     "data": {
      "text/plain": [
       "array([[373.14343, 348.4571 ],\n",
       "       [373.14343, 348.4571 ],\n",
       "       [373.14343, 348.4571 ],\n",
       "       ...,\n",
       "       [373.21353, 369.46033],\n",
       "       [373.117  , 369.36435],\n",
       "       [373.0205 , 369.26837]], dtype=float32)"
      ]
     },
     "execution_count": 153,
     "metadata": {},
     "output_type": "execute_result"
    }
   ],
   "source": [
    "X_test=np.array(X_test, dtype=np.float32)\n",
    "X_test"
   ]
  },
  {
   "cell_type": "code",
   "execution_count": 154,
   "metadata": {},
   "outputs": [
    {
     "name": "stderr",
     "output_type": "stream",
     "text": [
      "/usr/local/lib/python3.9/site-packages/sklearn/base.py:409: UserWarning: X does not have valid feature names, but MinMaxScaler was fitted with feature names\n",
      "  warnings.warn(\n"
     ]
    },
    {
     "data": {
      "text/plain": [
       "array([[0.79446435, 0.4354127 ],\n",
       "       [0.79446435, 0.4354127 ],\n",
       "       [0.79446435, 0.4354127 ],\n",
       "       ...,\n",
       "       [0.7949307 , 0.56869656],\n",
       "       [0.7942884 , 0.56808764],\n",
       "       [0.79364634, 0.5674785 ]], dtype=float32)"
      ]
     },
     "execution_count": 154,
     "metadata": {},
     "output_type": "execute_result"
    }
   ],
   "source": [
    "X_test_sc = sc1.transform(X_test)\n",
    "X_test_sc"
   ]
  },
  {
   "cell_type": "code",
   "execution_count": 155,
   "metadata": {},
   "outputs": [
    {
     "data": {
      "text/plain": [
       "(1, 1440, 2)"
      ]
     },
     "execution_count": 155,
     "metadata": {},
     "output_type": "execute_result"
    }
   ],
   "source": [
    "X_test_sc = X_test_sc[np.newaxis, :, :]\n",
    "X_test_sc.shape"
   ]
  },
  {
   "cell_type": "code",
   "execution_count": 156,
   "metadata": {},
   "outputs": [
    {
     "name": "stdout",
     "output_type": "stream",
     "text": [
      "1/1 [==============================] - 1s 506ms/step\n"
     ]
    },
    {
     "data": {
      "text/plain": [
       "array([[[0.5655872 ],\n",
       "        [0.5653288 ],\n",
       "        [0.5652324 ],\n",
       "        [0.5650815 ],\n",
       "        [0.5649276 ],\n",
       "        [0.5646952 ],\n",
       "        [0.56457853],\n",
       "        [0.56466496],\n",
       "        [0.5647727 ],\n",
       "        [0.56468177],\n",
       "        [0.56457436],\n",
       "        [0.56435263],\n",
       "        [0.5640232 ],\n",
       "        [0.56374574],\n",
       "        [0.563459  ],\n",
       "        [0.56328607],\n",
       "        [0.56307584],\n",
       "        [0.56302774],\n",
       "        [0.5631863 ],\n",
       "        [0.5633254 ],\n",
       "        [0.56345534],\n",
       "        [0.56345755],\n",
       "        [0.5635291 ],\n",
       "        [0.5634052 ],\n",
       "        [0.56320816],\n",
       "        [0.5631255 ],\n",
       "        [0.56314886],\n",
       "        [0.56319726],\n",
       "        [0.5629978 ],\n",
       "        [0.56284446],\n",
       "        [0.56266075],\n",
       "        [0.56251645],\n",
       "        [0.5623086 ],\n",
       "        [0.5619749 ],\n",
       "        [0.561828  ],\n",
       "        [0.56155086],\n",
       "        [0.5613029 ],\n",
       "        [0.56100094],\n",
       "        [0.5606742 ],\n",
       "        [0.5604481 ],\n",
       "        [0.56032276],\n",
       "        [0.56046474],\n",
       "        [0.56053215],\n",
       "        [0.5603119 ],\n",
       "        [0.5600698 ],\n",
       "        [0.56011575],\n",
       "        [0.55996937],\n",
       "        [0.55981636],\n",
       "        [0.55969536],\n",
       "        [0.5596295 ],\n",
       "        [0.5597292 ],\n",
       "        [0.55973697],\n",
       "        [0.5598353 ],\n",
       "        [0.55992556],\n",
       "        [0.5599033 ],\n",
       "        [0.5599511 ],\n",
       "        [0.5600105 ],\n",
       "        [0.5599486 ],\n",
       "        [0.5598147 ],\n",
       "        [0.5596921 ],\n",
       "        [0.55967027],\n",
       "        [0.55966353],\n",
       "        [0.559631  ],\n",
       "        [0.55932105],\n",
       "        [0.5590154 ],\n",
       "        [0.5585996 ],\n",
       "        [0.55849946],\n",
       "        [0.5584768 ],\n",
       "        [0.5584556 ],\n",
       "        [0.5585675 ],\n",
       "        [0.5586101 ],\n",
       "        [0.55868244],\n",
       "        [0.5588046 ],\n",
       "        [0.55885905],\n",
       "        [0.55897474],\n",
       "        [0.5589077 ],\n",
       "        [0.5587916 ],\n",
       "        [0.5587255 ],\n",
       "        [0.5586899 ],\n",
       "        [0.55864745],\n",
       "        [0.5584065 ],\n",
       "        [0.558283  ],\n",
       "        [0.55832994],\n",
       "        [0.5583292 ],\n",
       "        [0.55836874],\n",
       "        [0.5583234 ],\n",
       "        [0.55831623],\n",
       "        [0.5583471 ],\n",
       "        [0.5582174 ],\n",
       "        [0.5578844 ],\n",
       "        [0.5576626 ],\n",
       "        [0.5574421 ],\n",
       "        [0.55732197],\n",
       "        [0.55720365],\n",
       "        [0.5572553 ],\n",
       "        [0.55741024],\n",
       "        [0.5574898 ],\n",
       "        [0.5573436 ],\n",
       "        [0.5571811 ],\n",
       "        [0.55703205],\n",
       "        [0.55683386],\n",
       "        [0.5568591 ],\n",
       "        [0.55685705],\n",
       "        [0.55722666],\n",
       "        [0.5575092 ],\n",
       "        [0.5576552 ],\n",
       "        [0.5577335 ],\n",
       "        [0.5575204 ],\n",
       "        [0.5574423 ],\n",
       "        [0.5572175 ],\n",
       "        [0.55684537],\n",
       "        [0.55668426],\n",
       "        [0.55663246],\n",
       "        [0.55641186],\n",
       "        [0.55619556],\n",
       "        [0.5559641 ],\n",
       "        [0.5557495 ],\n",
       "        [0.5556782 ],\n",
       "        [0.5555433 ],\n",
       "        [0.5556711 ],\n",
       "        [0.5558252 ],\n",
       "        [0.55585   ],\n",
       "        [0.55580246],\n",
       "        [0.5558525 ],\n",
       "        [0.55569464],\n",
       "        [0.5554079 ],\n",
       "        [0.5552771 ],\n",
       "        [0.5551847 ],\n",
       "        [0.5550537 ],\n",
       "        [0.55498034],\n",
       "        [0.5549775 ],\n",
       "        [0.55476147],\n",
       "        [0.5545315 ],\n",
       "        [0.55430186],\n",
       "        [0.5539448 ],\n",
       "        [0.5539357 ],\n",
       "        [0.5539864 ],\n",
       "        [0.55411476],\n",
       "        [0.5542552 ],\n",
       "        [0.55410594],\n",
       "        [0.5539905 ],\n",
       "        [0.55384535],\n",
       "        [0.55373484],\n",
       "        [0.55352944],\n",
       "        [0.553321  ],\n",
       "        [0.5530138 ],\n",
       "        [0.55291   ],\n",
       "        [0.5529262 ],\n",
       "        [0.5527158 ],\n",
       "        [0.55275476],\n",
       "        [0.55265033],\n",
       "        [0.5524861 ],\n",
       "        [0.55250496],\n",
       "        [0.55236524],\n",
       "        [0.5522989 ],\n",
       "        [0.5521836 ],\n",
       "        [0.55210936],\n",
       "        [0.5520122 ],\n",
       "        [0.5520053 ],\n",
       "        [0.5521099 ],\n",
       "        [0.55221975],\n",
       "        [0.5522841 ],\n",
       "        [0.55222917],\n",
       "        [0.5521108 ],\n",
       "        [0.5520548 ],\n",
       "        [0.55209565],\n",
       "        [0.551932  ],\n",
       "        [0.5518002 ],\n",
       "        [0.5517236 ],\n",
       "        [0.55151033],\n",
       "        [0.5515485 ],\n",
       "        [0.5513993 ],\n",
       "        [0.55109674],\n",
       "        [0.5509507 ],\n",
       "        [0.5509472 ],\n",
       "        [0.55093634],\n",
       "        [0.5509943 ],\n",
       "        [0.55101097],\n",
       "        [0.5509027 ],\n",
       "        [0.5508207 ]]], dtype=float32)"
      ]
     },
     "execution_count": 156,
     "metadata": {},
     "output_type": "execute_result"
    }
   ],
   "source": [
    "y = model.predict(X_test_sc)\n",
    "y"
   ]
  },
  {
   "cell_type": "code",
   "execution_count": 157,
   "metadata": {},
   "outputs": [
    {
     "data": {
      "text/plain": [
       "array([[368.9703 , 368.9296 , 368.9144 , 368.89062, 368.8664 , 368.82977,\n",
       "        368.8114 , 368.82498, 368.84198, 368.82767, 368.81073, 368.7758 ,\n",
       "        368.72385, 368.68015, 368.63495, 368.60773, 368.5746 , 368.567  ,\n",
       "        368.59198, 368.61392, 368.6344 , 368.63474, 368.646  , 368.62646,\n",
       "        368.59543, 368.5824 , 368.5861 , 368.59372, 368.5623 , 368.53812,\n",
       "        368.5092 , 368.48645, 368.45367, 368.4011 , 368.37793, 368.3343 ,\n",
       "        368.2952 , 368.24762, 368.19614, 368.1605 , 368.14075, 368.16312,\n",
       "        368.17374, 368.13904, 368.1009 , 368.1081 , 368.08505, 368.06094,\n",
       "        368.04187, 368.0315 , 368.0472 , 368.04843, 368.06393, 368.07816,\n",
       "        368.07465, 368.08218, 368.09155, 368.08176, 368.0607 , 368.04135,\n",
       "        368.03793, 368.03687, 368.03174, 367.98288, 367.93472, 367.8692 ,\n",
       "        367.85342, 367.84985, 367.8465 , 367.86417, 367.87085, 367.88226,\n",
       "        367.90152, 367.91006, 367.92834, 367.91772, 367.89944, 367.88904,\n",
       "        367.88342, 367.87674, 367.83878, 367.8193 , 367.8267 , 367.8266 ,\n",
       "        367.83282, 367.82568, 367.82455, 367.8294 , 367.80896, 367.75647,\n",
       "        367.72156, 367.6868 , 367.66785, 367.64923, 367.65738, 367.6818 ,\n",
       "        367.6943 , 367.67126, 367.6457 , 367.62216, 367.59094, 367.59494,\n",
       "        367.5946 , 367.65286, 367.6974 , 367.72037, 367.7327 , 367.69916,\n",
       "        367.68683, 367.6514 , 367.59274, 367.56738, 367.5592 , 367.52444,\n",
       "        367.49036, 367.4539 , 367.42007, 367.40884, 367.38757, 367.4077 ,\n",
       "        367.43198, 367.43594, 367.4284 , 367.4363 , 367.41144, 367.36624,\n",
       "        367.34564, 367.3311 , 367.31046, 367.29886, 367.29843, 367.26437,\n",
       "        367.22812, 367.19196, 367.1357 , 367.13425, 367.14224, 367.16245,\n",
       "        367.18457, 367.16107, 367.14288, 367.12   , 367.1026 , 367.07022,\n",
       "        367.03738, 366.98898, 366.9726 , 366.97516, 366.94202, 366.94815,\n",
       "        366.9317 , 366.90582, 366.90878, 366.88675, 366.8763 , 366.8582 ,\n",
       "        366.84644, 366.83115, 366.83008, 366.84653, 366.86383, 366.874  ,\n",
       "        366.86536, 366.84668, 366.83783, 366.8443 , 366.81848, 366.79773,\n",
       "        366.78564, 366.75208, 366.7581 , 366.73456, 366.6869 , 366.66385,\n",
       "        366.66333, 366.6616 , 366.67072, 366.67337, 366.6563 , 366.64337]],\n",
       "      dtype=float32)"
      ]
     },
     "execution_count": 157,
     "metadata": {},
     "output_type": "execute_result"
    }
   ],
   "source": [
    "y_pred_reshaped = y.reshape(-1, y.shape[-2])\n",
    "y_pred = sc2.inverse_transform(y_pred_reshaped)\n",
    "y_pred"
   ]
  },
  {
   "cell_type": "code",
   "execution_count": 51,
   "metadata": {},
   "outputs": [
    {
     "data": {
      "text/html": [
       "<div>\n",
       "<style scoped>\n",
       "    .dataframe tbody tr th:only-of-type {\n",
       "        vertical-align: middle;\n",
       "    }\n",
       "\n",
       "    .dataframe tbody tr th {\n",
       "        vertical-align: top;\n",
       "    }\n",
       "\n",
       "    .dataframe thead th {\n",
       "        text-align: right;\n",
       "    }\n",
       "</style>\n",
       "<table border=\"1\" class=\"dataframe\">\n",
       "  <thead>\n",
       "    <tr style=\"text-align: right;\">\n",
       "      <th></th>\n",
       "      <th>date</th>\n",
       "      <th>prediction</th>\n",
       "    </tr>\n",
       "  </thead>\n",
       "  <tbody>\n",
       "    <tr>\n",
       "      <th>0</th>\n",
       "      <td>2023-06-12 16:10:00</td>\n",
       "      <td>346.696228</td>\n",
       "    </tr>\n",
       "    <tr>\n",
       "      <th>1</th>\n",
       "      <td>2023-06-12 16:11:00</td>\n",
       "      <td>346.675781</td>\n",
       "    </tr>\n",
       "    <tr>\n",
       "      <th>2</th>\n",
       "      <td>2023-06-12 16:12:00</td>\n",
       "      <td>346.662537</td>\n",
       "    </tr>\n",
       "    <tr>\n",
       "      <th>3</th>\n",
       "      <td>2023-06-12 16:13:00</td>\n",
       "      <td>346.648285</td>\n",
       "    </tr>\n",
       "    <tr>\n",
       "      <th>4</th>\n",
       "      <td>2023-06-12 16:14:00</td>\n",
       "      <td>346.627350</td>\n",
       "    </tr>\n",
       "    <tr>\n",
       "      <th>...</th>\n",
       "      <td>...</td>\n",
       "      <td>...</td>\n",
       "    </tr>\n",
       "    <tr>\n",
       "      <th>175</th>\n",
       "      <td>2023-06-12 19:05:00</td>\n",
       "      <td>346.207611</td>\n",
       "    </tr>\n",
       "    <tr>\n",
       "      <th>176</th>\n",
       "      <td>2023-06-12 19:06:00</td>\n",
       "      <td>346.231384</td>\n",
       "    </tr>\n",
       "    <tr>\n",
       "      <th>177</th>\n",
       "      <td>2023-06-12 19:07:00</td>\n",
       "      <td>346.245148</td>\n",
       "    </tr>\n",
       "    <tr>\n",
       "      <th>178</th>\n",
       "      <td>2023-06-12 19:08:00</td>\n",
       "      <td>346.247345</td>\n",
       "    </tr>\n",
       "    <tr>\n",
       "      <th>179</th>\n",
       "      <td>2023-06-12 19:09:00</td>\n",
       "      <td>346.238800</td>\n",
       "    </tr>\n",
       "  </tbody>\n",
       "</table>\n",
       "<p>180 rows × 2 columns</p>\n",
       "</div>"
      ],
      "text/plain": [
       "                   date  prediction\n",
       "0   2023-06-12 16:10:00  346.696228\n",
       "1   2023-06-12 16:11:00  346.675781\n",
       "2   2023-06-12 16:12:00  346.662537\n",
       "3   2023-06-12 16:13:00  346.648285\n",
       "4   2023-06-12 16:14:00  346.627350\n",
       "..                  ...         ...\n",
       "175 2023-06-12 19:05:00  346.207611\n",
       "176 2023-06-12 19:06:00  346.231384\n",
       "177 2023-06-12 19:07:00  346.245148\n",
       "178 2023-06-12 19:08:00  346.247345\n",
       "179 2023-06-12 19:09:00  346.238800\n",
       "\n",
       "[180 rows x 2 columns]"
      ]
     },
     "execution_count": 51,
     "metadata": {},
     "output_type": "execute_result"
    }
   ],
   "source": [
    "# Create a DatetimeIndex with a start time of '2023-06-12 16:10:00' and a frequency of one minute\n",
    "date_rng = pd.date_range(start=preprocessor.last_recorded_date, periods=180, freq='1min')\n",
    "\n",
    "# Create a DataFrame with the array and the DatetimeIndex\n",
    "df_pred = pd.DataFrame(y_pred.T, index=date_rng)\n",
    "\n",
    "# Rename the columns to 'date' and 'prediction'\n",
    "df_pred = df_pred.reset_index()\n",
    "df_pred.columns = ['date', 'prediction']\n",
    "\n",
    "# Add one minute to each row in the 'date' column\n",
    "#df_pred['date'] = df_pred['date'].apply(lambda x: x + pd.Timedelta(minutes=1))\n",
    "df_pred\n"
   ]
  },
  {
   "cell_type": "code",
   "execution_count": 67,
   "metadata": {},
   "outputs": [],
   "source": [
    "def predict_3h(df, date, features):\n",
    "    #date = df[['Date']].max()\n",
    "    X_test = df[features][:1440]\n",
    "    X_test_sc = sc1.transform(X_test)\n",
    "    X_test_sc = X_test_sc[np.newaxis, :, :]\n",
    "    y = model.predict(X_test_sc)\n",
    "    y_pred_reshaped = y.reshape(-1, y.shape[-2])\n",
    "    y_pred = sc2.inverse_transform(y_pred_reshaped)\n",
    "\n",
    "    date_rng = pd.date_range(start=date, periods=180, freq='1min')\n",
    "    # Create a DataFrame with the array and the DatetimeIndex\n",
    "    df_pred = pd.DataFrame(y_pred.T, index=date_rng)\n",
    "\n",
    "    # Rename the columns to 'date' and 'prediction'\n",
    "    df_pred = df_pred.reset_index()\n",
    "    df_pred.columns = ['date', 'prediction']\n",
    "\n",
    "    return df_pred\n"
   ]
  },
  {
   "cell_type": "code",
   "execution_count": 72,
   "metadata": {},
   "outputs": [
    {
     "name": "stdout",
     "output_type": "stream",
     "text": [
      "1/1 [==============================] - 0s 326ms/step\n"
     ]
    },
    {
     "data": {
      "text/html": [
       "<div>\n",
       "<style scoped>\n",
       "    .dataframe tbody tr th:only-of-type {\n",
       "        vertical-align: middle;\n",
       "    }\n",
       "\n",
       "    .dataframe tbody tr th {\n",
       "        vertical-align: top;\n",
       "    }\n",
       "\n",
       "    .dataframe thead th {\n",
       "        text-align: right;\n",
       "    }\n",
       "</style>\n",
       "<table border=\"1\" class=\"dataframe\">\n",
       "  <thead>\n",
       "    <tr style=\"text-align: right;\">\n",
       "      <th></th>\n",
       "      <th>date</th>\n",
       "      <th>prediction</th>\n",
       "    </tr>\n",
       "  </thead>\n",
       "  <tbody>\n",
       "    <tr>\n",
       "      <th>0</th>\n",
       "      <td>2023-06-12 16:10:00</td>\n",
       "      <td>346.696228</td>\n",
       "    </tr>\n",
       "    <tr>\n",
       "      <th>1</th>\n",
       "      <td>2023-06-12 16:11:00</td>\n",
       "      <td>346.675781</td>\n",
       "    </tr>\n",
       "    <tr>\n",
       "      <th>2</th>\n",
       "      <td>2023-06-12 16:12:00</td>\n",
       "      <td>346.662537</td>\n",
       "    </tr>\n",
       "    <tr>\n",
       "      <th>3</th>\n",
       "      <td>2023-06-12 16:13:00</td>\n",
       "      <td>346.648285</td>\n",
       "    </tr>\n",
       "    <tr>\n",
       "      <th>4</th>\n",
       "      <td>2023-06-12 16:14:00</td>\n",
       "      <td>346.627350</td>\n",
       "    </tr>\n",
       "    <tr>\n",
       "      <th>...</th>\n",
       "      <td>...</td>\n",
       "      <td>...</td>\n",
       "    </tr>\n",
       "    <tr>\n",
       "      <th>175</th>\n",
       "      <td>2023-06-12 19:05:00</td>\n",
       "      <td>346.207611</td>\n",
       "    </tr>\n",
       "    <tr>\n",
       "      <th>176</th>\n",
       "      <td>2023-06-12 19:06:00</td>\n",
       "      <td>346.231384</td>\n",
       "    </tr>\n",
       "    <tr>\n",
       "      <th>177</th>\n",
       "      <td>2023-06-12 19:07:00</td>\n",
       "      <td>346.245148</td>\n",
       "    </tr>\n",
       "    <tr>\n",
       "      <th>178</th>\n",
       "      <td>2023-06-12 19:08:00</td>\n",
       "      <td>346.247345</td>\n",
       "    </tr>\n",
       "    <tr>\n",
       "      <th>179</th>\n",
       "      <td>2023-06-12 19:09:00</td>\n",
       "      <td>346.238800</td>\n",
       "    </tr>\n",
       "  </tbody>\n",
       "</table>\n",
       "<p>180 rows × 2 columns</p>\n",
       "</div>"
      ],
      "text/plain": [
       "                   date  prediction\n",
       "0   2023-06-12 16:10:00  346.696228\n",
       "1   2023-06-12 16:11:00  346.675781\n",
       "2   2023-06-12 16:12:00  346.662537\n",
       "3   2023-06-12 16:13:00  346.648285\n",
       "4   2023-06-12 16:14:00  346.627350\n",
       "..                  ...         ...\n",
       "175 2023-06-12 19:05:00  346.207611\n",
       "176 2023-06-12 19:06:00  346.231384\n",
       "177 2023-06-12 19:07:00  346.245148\n",
       "178 2023-06-12 19:08:00  346.247345\n",
       "179 2023-06-12 19:09:00  346.238800\n",
       "\n",
       "[180 rows x 2 columns]"
      ]
     },
     "execution_count": 72,
     "metadata": {},
     "output_type": "execute_result"
    }
   ],
   "source": [
    "predict_3h(preprocessor.filtred_24h, preprocessor.last_recorded_date, features = ['MV1', 'CV1'])"
   ]
  },
  {
   "cell_type": "code",
   "execution_count": 14,
   "metadata": {},
   "outputs": [],
   "source": [
    "import requests\n",
    "import json\n",
    "import pandas as pd\n",
    "\n",
    "url = \"https://eu-west-2.aws.data.mongodb-api.com/app/data-rpqya/endpoint/data/v1/action/find\"\n",
    "\n",
    "documents_list = []\n",
    "for collection in ['P075', 'P092'] :\n",
    "    # Specify the fields to project in the \"projection\" field of the payload\n",
    "    payload = json.dumps({\n",
    "        \"dataSource\": \"Cluster0\",\n",
    "        \"database\": \"agrodaraa\",\n",
    "        \"collection\": collection,\n",
    "        \"sort\": {\"Date\": -1},\n",
    "        \"limit\": 1440,\n",
    "        \"projection\": {\"CV1\": 1, \"MV1\": 1, \"Date\": 1}\n",
    "    })\n",
    "    headers = {\n",
    "        \"apiKey\": \"nzyQOL6Q8MzrC7ReUgDVmiqVYcXh1o7SUdI4sEiVbjSx4TUrXz7tJVJlpV5lgPiV\",\n",
    "        \"Content-Type\": \"application/ejson\",\n",
    "        \"Accept\": \"application/json\",\n",
    "    }\n",
    "\n",
    "        # Make the POST request\n",
    "    response = requests.request(\"POST\", url, headers=headers, data=payload)\n",
    "\n",
    "    # Check if the request was successful\n",
    "    if response.status_code == 200:\n",
    "        data = response.json()\n",
    "    else:\n",
    "        print(f\"Request failed with status code {response.status_code}\")\n",
    "    documents_list.append(data['documents'])\n",
    "\n",
    "# Create a DataFrame from the list of dictionaries\n",
    "x = pd.DataFrame(documents_list[0])"
   ]
  },
  {
   "cell_type": "code",
   "execution_count": 16,
   "metadata": {},
   "outputs": [
    {
     "name": "stdout",
     "output_type": "stream",
     "text": [
      "<class 'pandas.core.frame.DataFrame'>\n",
      "RangeIndex: 1440 entries, 0 to 1439\n",
      "Data columns (total 4 columns):\n",
      " #   Column  Non-Null Count  Dtype  \n",
      "---  ------  --------------  -----  \n",
      " 0   Date    1440 non-null   object \n",
      " 1   MV1     1440 non-null   float64\n",
      " 2   CV1     1440 non-null   float64\n",
      " 3   _id     1440 non-null   object \n",
      "dtypes: float64(2), object(2)\n",
      "memory usage: 45.1+ KB\n"
     ]
    }
   ],
   "source": [
    "x.info()"
   ]
  },
  {
   "cell_type": "code",
   "execution_count": 17,
   "metadata": {},
   "outputs": [
    {
     "name": "stdout",
     "output_type": "stream",
     "text": [
      "<class 'pandas.core.frame.DataFrame'>\n",
      "RangeIndex: 1440 entries, 0 to 1439\n",
      "Data columns (total 4 columns):\n",
      " #   Column  Non-Null Count  Dtype         \n",
      "---  ------  --------------  -----         \n",
      " 0   Date    1440 non-null   datetime64[ns]\n",
      " 1   MV1     1440 non-null   float64       \n",
      " 2   CV1     1440 non-null   float64       \n",
      " 3   _id     1440 non-null   object        \n",
      "dtypes: datetime64[ns](1), float64(2), object(1)\n",
      "memory usage: 45.1+ KB\n"
     ]
    }
   ],
   "source": [
    "df = x.copy()\n",
    "df['Date'] = pd.to_datetime(df['Date'], format=\"%Y-%m-%dT%H:%M:%SZ\")\n",
    "df.info()"
   ]
  },
  {
   "cell_type": "code",
   "execution_count": 30,
   "metadata": {},
   "outputs": [
    {
     "data": {
      "text/plain": [
       "DatetimeIndex(['2023-06-12 15:10:00+00:00', '2023-06-12 15:11:00+00:00',\n",
       "               '2023-06-12 15:12:00+00:00', '2023-06-12 15:13:00+00:00',\n",
       "               '2023-06-12 15:14:00+00:00', '2023-06-12 15:15:00+00:00',\n",
       "               '2023-06-12 15:16:00+00:00', '2023-06-12 15:17:00+00:00',\n",
       "               '2023-06-12 15:18:00+00:00', '2023-06-12 15:19:00+00:00',\n",
       "               ...\n",
       "               '2023-06-12 18:00:00+00:00', '2023-06-12 18:01:00+00:00',\n",
       "               '2023-06-12 18:02:00+00:00', '2023-06-12 18:03:00+00:00',\n",
       "               '2023-06-12 18:04:00+00:00', '2023-06-12 18:05:00+00:00',\n",
       "               '2023-06-12 18:06:00+00:00', '2023-06-12 18:07:00+00:00',\n",
       "               '2023-06-12 18:08:00+00:00', '2023-06-12 18:09:00+00:00'],\n",
       "              dtype='datetime64[ns, UTC]', length=180, freq='T')"
      ]
     },
     "execution_count": 30,
     "metadata": {},
     "output_type": "execute_result"
    }
   ],
   "source": [
    "date = x[['Date']].max()\n",
    "pd.date_range(start=date['Date'], periods=180, freq='1min')"
   ]
  },
  {
   "cell_type": "code",
   "execution_count": 1,
   "metadata": {},
   "outputs": [
    {
     "name": "stderr",
     "output_type": "stream",
     "text": [
      "/usr/local/lib/python3.9/site-packages/sklearn/base.py:288: UserWarning: Trying to unpickle estimator MinMaxScaler from version 1.2.2 when using version 1.2.0. This might lead to breaking code or invalid results. Use at your own risk. For more info please refer to:\n",
      "https://scikit-learn.org/stable/model_persistence.html#security-maintainability-limitations\n",
      "  warnings.warn(\n"
     ]
    },
    {
     "name": "stdout",
     "output_type": "stream",
     "text": [
      "1/1 [==============================] - 2s 2s/step\n",
      "1/1 [==============================] - 2s 2s/step\n",
      "<class 'pandas.core.frame.DataFrame'>\n",
      "RangeIndex: 1440 entries, 0 to 1439\n",
      "Data columns (total 4 columns):\n",
      " #   Column  Non-Null Count  Dtype  \n",
      "---  ------  --------------  -----  \n",
      " 0   Date    1440 non-null   object \n",
      " 1   _id     1440 non-null   object \n",
      " 2   MV1     1440 non-null   float64\n",
      " 3   CV1     1440 non-null   float64\n",
      "dtypes: float64(2), object(2)\n",
      "memory usage: 45.1+ KB\n"
     ]
    }
   ],
   "source": [
    "from predictor import Predictor\n",
    "\n",
    "# Define object Predictor\n",
    "predictor = Predictor()\n",
    "\n",
    "# Fetch data ('Date', 'CV1', 'MV1') of all availble dfs in mongo API\n",
    "dfs = predictor.fetch()\n",
    "predictions = predictor.predict_3h(cv = 2)\n",
    "dfs[1].info()"
   ]
  },
  {
   "cell_type": "code",
   "execution_count": 2,
   "metadata": {},
   "outputs": [
    {
     "data": {
      "text/plain": [
       "[                         Date  prediction\n",
       " 0   2023-06-12 15:10:00+00:00  368.970367\n",
       " 1   2023-06-12 15:11:00+00:00  368.929596\n",
       " 2   2023-06-12 15:12:00+00:00  368.914398\n",
       " 3   2023-06-12 15:13:00+00:00  368.890625\n",
       " 4   2023-06-12 15:14:00+00:00  368.866394\n",
       " ..                        ...         ...\n",
       " 175 2023-06-12 18:05:00+00:00  366.661591\n",
       " 176 2023-06-12 18:06:00+00:00  366.670715\n",
       " 177 2023-06-12 18:07:00+00:00  366.673370\n",
       " 178 2023-06-12 18:08:00+00:00  366.656311\n",
       " 179 2023-06-12 18:09:00+00:00  366.643372\n",
       " \n",
       " [180 rows x 2 columns],\n",
       "                          Date  prediction\n",
       " 0   2023-06-12 10:24:00+00:00  369.719055\n",
       " 1   2023-06-12 10:25:00+00:00  369.468781\n",
       " 2   2023-06-12 10:26:00+00:00  369.246948\n",
       " 3   2023-06-12 10:27:00+00:00  369.086823\n",
       " 4   2023-06-12 10:28:00+00:00  368.961182\n",
       " ..                        ...         ...\n",
       " 175 2023-06-12 13:19:00+00:00  366.609619\n",
       " 176 2023-06-12 13:20:00+00:00  366.665375\n",
       " 177 2023-06-12 13:21:00+00:00  366.674622\n",
       " 178 2023-06-12 13:22:00+00:00  366.658752\n",
       " 179 2023-06-12 13:23:00+00:00  366.695618\n",
       " \n",
       " [180 rows x 2 columns]]"
      ]
     },
     "execution_count": 2,
     "metadata": {},
     "output_type": "execute_result"
    }
   ],
   "source": [
    "predictor.predictions"
   ]
  },
  {
   "cell_type": "code",
   "execution_count": 7,
   "metadata": {},
   "outputs": [
    {
     "data": {
      "text/plain": [
       "0      368.970367\n",
       "1      368.929596\n",
       "2      368.914398\n",
       "3      368.890625\n",
       "4      368.866394\n",
       "          ...    \n",
       "175    366.661591\n",
       "176    366.670715\n",
       "177    366.673370\n",
       "178    366.656311\n",
       "179    366.643372\n",
       "Name: prediction, Length: 180, dtype: float32"
      ]
     },
     "execution_count": 7,
     "metadata": {},
     "output_type": "execute_result"
    }
   ],
   "source": [
    "predictions[0]['prediction']"
   ]
  },
  {
   "cell_type": "code",
   "execution_count": 60,
   "metadata": {},
   "outputs": [
    {
     "name": "stdout",
     "output_type": "stream",
     "text": [
      "<class 'pandas.core.frame.DataFrame'>\n",
      "RangeIndex: 1440 entries, 0 to 1439\n",
      "Data columns (total 4 columns):\n",
      " #   Column  Non-Null Count  Dtype  \n",
      "---  ------  --------------  -----  \n",
      " 0   Date    1440 non-null   object \n",
      " 1   MV1     1440 non-null   float64\n",
      " 2   CV1     1440 non-null   float64\n",
      " 3   _id     1440 non-null   object \n",
      "dtypes: float64(2), object(2)\n",
      "memory usage: 45.1+ KB\n"
     ]
    }
   ],
   "source": [
    "dfs[1].fillna(method='ffill', inplace=True)\n",
    "dfs[0].info()"
   ]
  },
  {
   "cell_type": "code",
   "execution_count": null,
   "metadata": {},
   "outputs": [],
   "source": []
  }
 ],
 "metadata": {
  "kernelspec": {
   "display_name": "Python 3",
   "language": "python",
   "name": "python3"
  },
  "language_info": {
   "codemirror_mode": {
    "name": "ipython",
    "version": 3
   },
   "file_extension": ".py",
   "mimetype": "text/x-python",
   "name": "python",
   "nbconvert_exporter": "python",
   "pygments_lexer": "ipython3",
   "version": "3.9.13"
  },
  "orig_nbformat": 4
 },
 "nbformat": 4,
 "nbformat_minor": 2
}
